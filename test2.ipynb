{
  "nbformat": 4,
  "nbformat_minor": 0,
  "metadata": {
    "colab": {
      "name": "Lab 07-2_",
      "provenance": []
    },
    "kernelspec": {
      "name": "python3",
      "display_name": "Python 3"
    }
  },
  "cells": [
    {
      "cell_type": "markdown",
      "metadata": {
        "id": "aEihTOuQVGvk",
        "colab_type": "text"
      },
      "source": [
        "**WHat is MNIST?**"
      ]
    },
    {
      "cell_type": "markdown",
      "metadata": {
        "id": "K9IeZoNBVZnG",
        "colab_type": "text"
      },
      "source": [
        "MINIST: handwritten digits dataset"
      ]
    },
    {
      "cell_type": "markdown",
      "metadata": {
        "id": "4C7E9gkbVcTn",
        "colab_type": "text"
      },
      "source": [
        "\n",
        "\n",
        "*   28 * 28 image\n",
        "*   1 channel gray image\n",
        "*   0-9 digits\n",
        "\n",
        "\n",
        "\n",
        "\n"
      ]
    },
    {
      "cell_type": "code",
      "metadata": {
        "id": "5bKQqbRZV1x-",
        "colab_type": "code",
        "colab": {}
      },
      "source": [
        "for X,Y in data_loader:\n",
        "  #reshape input image into [batch_size by 784]\n",
        "  #Label is not one-hot encoded\n",
        "  X = X.view(-1,28*28)"
      ],
      "execution_count": 0,
      "outputs": []
    },
    {
      "cell_type": "markdown",
      "metadata": {
        "id": "qJ-POw3QXkp9",
        "colab_type": "text"
      },
      "source": [
        "root: 어느경로에 MNIST데이터가 있냐"
      ]
    },
    {
      "cell_type": "markdown",
      "metadata": {
        "id": "DxU7cDGFYXmi",
        "colab_type": "text"
      },
      "source": [
        "train: MNIST에 있는 True->trainset을 불러옴 / False->testset을 불러옴\n"
      ]
    },
    {
      "cell_type": "markdown",
      "metadata": {
        "id": "JUbHxkj3Ye0y",
        "colab_type": "text"
      },
      "source": [
        "transform: mnist 불러올 때 어떤 transform을 불러올꺼냐"
      ]
    },
    {
      "cell_type": "markdown",
      "metadata": {
        "id": "RvJCZu9mYjJ9",
        "colab_type": "text"
      },
      "source": [
        "Totensor: img를 pt에 맞게 바꿔주는 일\n",
        "\n",
        "---\n",
        "pt = 0-1의 값을 가짐 / [높이 너비] -> img = 0-255의 값을 가짐 / [높이 너비 채널] "
      ]
    },
    {
      "cell_type": "code",
      "metadata": {
        "id": "T72AjbRXZaxI",
        "colab_type": "code",
        "colab": {}
      },
      "source": [
        "import torchvision.datasets as dsets\n",
        "mnist train = dsets.MNIST(root=\"MNIST_data/\",train=True,transform=transforms.ToTensor(),download=True)\n",
        "\n",
        "mnist_test = dsets.MNIST(root=\"MNIST_data/\",train=False,transform=transforms.ToTensor(),download=True)\n",
        "\n",
        "data_loader = torcj.utils.DataLoader(DataLoader=mnist_train, batch_size=batch_size,shuffle=True, drop_last=True)\n",
        "\n",
        "for epoch in range(training_epochs):\n",
        "  for X,Y in data_loader:  # X는 mnist img,Y는 label(0-9:숫자이기 때문)\n",
        "    X = X.view(-1,28*28).to(device)"
      ],
      "execution_count": 0,
      "outputs": []
    },
    {
      "cell_type": "code",
      "metadata": {
        "id": "6CHSjxF9fKZM",
        "colab_type": "code",
        "colab": {}
      },
      "source": [
        "import torch\n",
        "import torchvision.datasets as dsets\n",
        "import torchvision.transforms as transforms\n",
        "import matplotlib.pyplot as plt\n",
        "import random"
      ],
      "execution_count": 0,
      "outputs": []
    },
    {
      "cell_type": "code",
      "metadata": {
        "id": "JRPQ_7a2jS9O",
        "colab_type": "code",
        "colab": {}
      },
      "source": [
        ""
      ],
      "execution_count": 0,
      "outputs": []
    },
    {
      "cell_type": "code",
      "metadata": {
        "id": "GTg3Cptaj6xT",
        "colab_type": "code",
        "colab": {}
      },
      "source": [
        "linear = torch.nn.Linear(784, 10, bias = True).to(device)\n",
        "\n",
        "training_epochs = 15\n",
        "batch_size = 100\n",
        "\n",
        "criterion = torch.nn.CrossEntropyLoss().to(device)   \n",
        "optimizer = torch.optim.SGD(linear.parameters(), lr = 0.1)\n",
        "\n",
        "for epoch in range(training_epochs):\n",
        "  avg_cost = 0\n",
        "  total_batch = len(data_loader)\n",
        "\n",
        "  \n",
        "  for X, Y in data_loader:\n",
        "    X = X.view(-1, 28*28).to(device)      \n",
        "    \n",
        "    optimizer.zero_grad()\n",
        "    hypothesis = linear(X)\n",
        "    cost = criterion(hypothesis, Y)\n",
        "    \n",
        "    cost.backward()\n",
        "    optimizer.step()\n",
        "    avg_cost += cost / total_batch\n",
        "    \n",
        "\n",
        "  print(\"E : \", \"%04d\" % (epoch+1), \"cost = \", \"{:.9f}\".format(avg_cost))"
      ],
      "execution_count": 0,
      "outputs": []
    }
  ]
}

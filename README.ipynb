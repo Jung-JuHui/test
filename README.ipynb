{
  "nbformat": 4,
  "nbformat_minor": 0,
  "metadata": {
    "colab": {
      "name": "Lab 07-1_Tips",
      "provenance": [],
      "collapsed_sections": []
    },
    "kernelspec": {
      "name": "python3",
      "display_name": "Python 3"
    }
  },
  "cells": [
    {
      "cell_type": "code",
      "metadata": {
        "id": "hff9ibVTeRCy",
        "colab_type": "code",
        "colab": {}
      },
      "source": [
        "import torch\n",
        "import torch.nn as nn\n",
        "import torch.nn.functional as F\n",
        "import torch.optim as optim"
      ],
      "execution_count": 0,
      "outputs": []
    },
    {
      "cell_type": "code",
      "metadata": {
        "id": "PxvByil2KUkL",
        "colab_type": "code",
        "outputId": "2ea41fc5-75a6-4f01-8737-a3bf2c8cc87f",
        "colab": {
          "base_uri": "https://localhost:8080/",
          "height": 35
        }
      },
      "source": [
        "# For reproductibitily\n",
        "torch.manual_seed(1)"
      ],
      "execution_count": 0,
      "outputs": [
        {
          "output_type": "execute_result",
          "data": {
            "text/plain": [
              "<torch._C.Generator at 0x7f270f429ed0>"
            ]
          },
          "metadata": {
            "tags": []
          },
          "execution_count": 2
        }
      ]
    },
    {
      "cell_type": "code",
      "metadata": {
        "id": "-66lHZ6VKY8i",
        "colab_type": "code",
        "colab": {}
      },
      "source": [
        "x_train = torch.FloatTensor([[1, 2, 1],\n",
        "                            [1, 3, 2],\n",
        "                            [1, 3, 4],\n",
        "                            [1, 5, 5],\n",
        "                            [1, 7, 5],\n",
        "                            [1, 2, 5],\n",
        "                            [1, 6, 6],\n",
        "                            [1, 7, 7]]\n",
        "\n",
        "y_train = torch.LongTensor([2, 2, 2, 1, 1, 1, 0, 0])\n",
        "\n",
        "x_test = torch.FloatTensor([[2, 1, 1], [3, 1, 2], [3, 3, 4]])\n",
        "\n",
        "y_test = torch.LongTensor([2, 2, 2])"
      ],
      "execution_count": 0,
      "outputs": []
    },
    {
      "cell_type": "code",
      "metadata": {
        "id": "xgxpiZ28Kl_a",
        "colab_type": "code",
        "colab": {}
      },
      "source": [
        "class SoftmaxClassifierModel(nn.Module):\n",
        "   def __init__(self):\n",
        "     super().__init__()\n",
        "     self.linear = nn.Linear(3, 3)\n",
        "    \n",
        "   def forward(self, x):\n",
        "     return self.linear(x)\n",
        "\n",
        "model = SoftmaxClassifierModel()\n",
        "\n",
        "# optimizer 설정\n",
        "optimizer = optim.SGD(model.parameters(), lr = 0.1)"
      ],
      "execution_count": 0,
      "outputs": []
    },
    {
      "cell_type": "code",
      "metadata": {
        "id": "vgMeEGRMKqW1",
        "colab_type": "code",
        "colab": {}
      },
      "source": [
        "def train(model, optimizer, x_train, y_train) : \n",
        "  nb_epochs = 20\n",
        "  for epoch in range (nb_epochs):\n",
        "\n",
        "    # H(x) 계산\n",
        "    prediction = model(x_train) \n",
        "\n",
        "    # cost 계산\n",
        "    cost = F.cross_entropy(prediction, y_train)\n",
        "\n",
        "    # cost로 H(x) 개선\n",
        "\n",
        "    optimizer.zero_grad()\n",
        "    cost.backward()\n",
        "    optimizer.step()\n",
        "\n",
        "    print('E: {:4d}/{}  Cost: {:.6f}'.format(epoch, nb_epochs, cost.item()))"
      ],
      "execution_count": 0,
      "outputs": []
    },
    {
      "cell_type": "code",
      "metadata": {
        "id": "50Bh8kdZK2Vq",
        "colab_type": "code",
        "colab": {}
      },
      "source": [
        "def test(model, opt, x_test, y_test):\n",
        "    prediction = model(x_test)                  \n",
        "    predicted_classes = prediction.max(1)[1]   \n",
        "    correct_count = (predicted_classes == y_test).sum().item()\n",
        "    cost = F.cross_entropy(prediction, y_test)  \n",
        "\n",
        "  print('Accuracy: {}% Cost: {:.6f}'.format(correct_count / len(y_test) * 100, cost.item()))"
      ],
      "execution_count": 0,
      "outputs": []
    },
    {
      "cell_type": "code",
      "metadata": {
        "id": "8rwtoBb0K-RX",
        "colab_type": "code",
        "outputId": "cc5e7a0f-e7ac-4ec8-8723-a7589eb5f398",
        "colab": {
          "base_uri": "https://localhost:8080/",
          "height": 395
        }
      },
      "source": [
        "train(model, optimizer, x_train, y_train)"
      ],
      "execution_count": 0,
      "outputs": [
        {
          "output_type": "stream",
          "text": [
            "E:    0/20  Cost: 2.203667\n",
            "E:    1/20  Cost: 1.199645\n",
            "E:    2/20  Cost: 1.142985\n",
            "E:    3/20  Cost: 1.117769\n",
            "E:    4/20  Cost: 1.100901\n",
            "E:    5/20  Cost: 1.089523\n",
            "E:    6/20  Cost: 1.079872\n",
            "E:    7/20  Cost: 1.071320\n",
            "E:    8/20  Cost: 1.063325\n",
            "E:    9/20  Cost: 1.055720\n",
            "E:   10/20  Cost: 1.048378\n",
            "E:   11/20  Cost: 1.041245\n",
            "E:   12/20  Cost: 1.034285\n",
            "E:   13/20  Cost: 1.027478\n",
            "E:   14/20  Cost: 1.020813\n",
            "E:   15/20  Cost: 1.014279\n",
            "E:   16/20  Cost: 1.007872\n",
            "E:   17/20  Cost: 1.001586\n",
            "E:   18/20  Cost: 0.995419\n",
            "E:   19/20  Cost: 0.989365\n",
            "Accuracy: 0.0%   Cost: 1.425844\n"
          ],
          "name": "stdout"
        }
      ]
    },
    {
      "cell_type": "code",
      "metadata": {
        "id": "rsnURNczMS6a",
        "colab_type": "code",
        "outputId": "916a49f7-5074-4761-ce7a-55b6463855ca",
        "colab": {
          "base_uri": "https://localhost:8080/",
          "height": 35
        }
      },
      "source": [
        "test(model, optimizer, x_test, y_test)"
      ],
      "execution_count": 0,
      "outputs": [
        {
          "output_type": "stream",
          "text": [
            "Accuracy: 0.0%   Cost: 1.425844\n"
          ],
          "name": "stdout"
        }
      ]
    },
    {
      "cell_type": "code",
      "metadata": {
        "id": "55CO3BKqN7l7",
        "colab_type": "code",
        "colab": {}
      },
      "source": [
        "model = SoftmaxClassifierModel()"
      ],
      "execution_count": 0,
      "outputs": []
    },
    {
      "cell_type": "code",
      "metadata": {
        "id": "WXlXKt4lOHHg",
        "colab_type": "code",
        "colab": {}
      },
      "source": [
        "optimizer = optim.SGD(model.parameters(), lr = 1e5)"
      ],
      "execution_count": 0,
      "outputs": []
    },
    {
      "cell_type": "code",
      "metadata": {
        "id": "YI-DqWRLOJ4j",
        "colab_type": "code",
        "outputId": "a219950f-a64d-4dbd-fd14-b0ae86a88f85",
        "colab": {
          "base_uri": "https://localhost:8080/",
          "height": 377
        }
      },
      "source": [
        "train(model, optimizer, x_train, y_train)"
      ],
      "execution_count": 0,
      "outputs": [
        {
          "output_type": "stream",
          "text": [
            "E:    0/20  Cost: 1.280268\n",
            "E:    1/20  Cost: 976950.750000\n",
            "E:    2/20  Cost: 1279135.000000\n",
            "E:    3/20  Cost: 1198379.125000\n",
            "E:    4/20  Cost: 1098825.625000\n",
            "E:    5/20  Cost: 1968197.625000\n",
            "E:    6/20  Cost: 284763.125000\n",
            "E:    7/20  Cost: 1532260.000000\n",
            "E:    8/20  Cost: 1651504.250000\n",
            "E:    9/20  Cost: 521878.437500\n",
            "E:   10/20  Cost: 1397263.125000\n",
            "E:   11/20  Cost: 750986.250000\n",
            "E:   12/20  Cost: 918691.750000\n",
            "E:   13/20  Cost: 1487888.125000\n",
            "E:   14/20  Cost: 1582260.125000\n",
            "E:   15/20  Cost: 685818.000000\n",
            "E:   16/20  Cost: 1140048.750000\n",
            "E:   17/20  Cost: 940566.750000\n",
            "E:   18/20  Cost: 931638.125000\n",
            "E:   19/20  Cost: 1971322.625000\n"
          ],
          "name": "stdout"
        }
      ]
    },
    {
      "cell_type": "code",
      "metadata": {
        "id": "qKonlmb-OMQa",
        "colab_type": "code",
        "colab": {}
      },
      "source": [
        "model = SoftmaxClassifierModel()"
      ],
      "execution_count": 0,
      "outputs": []
    },
    {
      "cell_type": "code",
      "metadata": {
        "id": "98fPgsVxOZe3",
        "colab_type": "code",
        "colab": {}
      },
      "source": [
        "optimizer = optim.SGD(model.parameters(), lr = 1e-10)"
      ],
      "execution_count": 0,
      "outputs": []
    },
    {
      "cell_type": "code",
      "metadata": {
        "id": "WI2Zp6hVOdD8",
        "colab_type": "code",
        "outputId": "754b42f1-0722-4261-a8d2-c90d8a9c106a",
        "colab": {
          "base_uri": "https://localhost:8080/",
          "height": 377
        }
      },
      "source": [
        "train(model, optimizer, x_train, y_train)"
      ],
      "execution_count": 0,
      "outputs": [
        {
          "output_type": "stream",
          "text": [
            "E:    0/20  Cost: 3.187324\n",
            "E:    1/20  Cost: 3.187324\n",
            "E:    2/20  Cost: 3.187324\n",
            "E:    3/20  Cost: 3.187324\n",
            "E:    4/20  Cost: 3.187324\n",
            "E:    5/20  Cost: 3.187324\n",
            "E:    6/20  Cost: 3.187324\n",
            "E:    7/20  Cost: 3.187324\n",
            "E:    8/20  Cost: 3.187324\n",
            "E:    9/20  Cost: 3.187324\n",
            "E:   10/20  Cost: 3.187324\n",
            "E:   11/20  Cost: 3.187324\n",
            "E:   12/20  Cost: 3.187324\n",
            "E:   13/20  Cost: 3.187324\n",
            "E:   14/20  Cost: 3.187324\n",
            "E:   15/20  Cost: 3.187324\n",
            "E:   16/20  Cost: 3.187324\n",
            "E:   17/20  Cost: 3.187324\n",
            "E:   18/20  Cost: 3.187324\n",
            "E:   19/20  Cost: 3.187324\n"
          ],
          "name": "stdout"
        }
      ]
    },
    {
      "cell_type": "code",
      "metadata": {
        "id": "n1FCsytAOgCN",
        "colab_type": "code",
        "colab": {}
      },
      "source": [
        "x_train  = torch.FloatTensor([[73, 80, 75],\n",
        "                             [93, 88, 93],\n",
        "                             [89, 91, 90],\n",
        "                             [96, 98, 100],\n",
        "                             [73, 66, 70]])\n",
        "y_train  = torch.FloatTensor([[152],[185],[180], [196], [142]])"
      ],
      "execution_count": 0,
      "outputs": []
    },
    {
      "cell_type": "code",
      "metadata": {
        "id": "yIsF8yn6Oqn8",
        "colab_type": "code",
        "colab": {}
      },
      "source": [
        "mu = x_train.mean(dim=0)"
      ],
      "execution_count": 0,
      "outputs": []
    },
    {
      "cell_type": "code",
      "metadata": {
        "id": "GeQmrcgoOuce",
        "colab_type": "code",
        "colab": {}
      },
      "source": [
        "sigma = x_train.std(dim=0)"
      ],
      "execution_count": 0,
      "outputs": []
    },
    {
      "cell_type": "code",
      "metadata": {
        "id": "J3Y8N1DXOyHl",
        "colab_type": "code",
        "colab": {}
      },
      "source": [
        "norm_x_train = (x_train - mu)/sigma"
      ],
      "execution_count": 0,
      "outputs": []
    },
    {
      "cell_type": "code",
      "metadata": {
        "id": "Yd2xAjBNO0NH",
        "colab_type": "code",
        "outputId": "1869562c-a3aa-4fe3-d87a-4aeef4fbfa9a",
        "colab": {
          "base_uri": "https://localhost:8080/",
          "height": 107
        }
      },
      "source": [
        "print(norm_x_train)"
      ],
      "execution_count": 0,
      "outputs": [
        {
          "output_type": "stream",
          "text": [
            "tensor([[-1.0674, -0.3758, -0.8398],\n",
            "        [ 0.7418,  0.2778,  0.5863],\n",
            "        [ 0.3799,  0.5229,  0.3486],\n",
            "        [ 1.0132,  1.0948,  1.1409],\n",
            "        [-1.0674, -1.5197, -1.2360]])\n"
          ],
          "name": "stdout"
        }
      ]
    },
    {
      "cell_type": "code",
      "metadata": {
        "id": "vr3_sx_SO3C5",
        "colab_type": "code",
        "colab": {}
      },
      "source": [
        "class MultivariableLinearRegressionModel(nn.Module):\n",
        "     def __init__(self):\n",
        "       super().__init__()\n",
        "       self.linear = nn.Linear(3, 1)\n",
        "\n",
        "     def forward(self, x):\n",
        "       return self.linear(x)"
      ],
      "execution_count": 0,
      "outputs": []
    },
    {
      "cell_type": "code",
      "metadata": {
        "id": "dmNnKHcOPbdh",
        "colab_type": "code",
        "colab": {}
      },
      "source": [
        "model = MultivariableLinearRegressionModel()"
      ],
      "execution_count": 0,
      "outputs": []
    },
    {
      "cell_type": "code",
      "metadata": {
        "id": "LXIkom0hPgKx",
        "colab_type": "code",
        "colab": {}
      },
      "source": [
        "optimizer = optim.SGD(model.parameters(), lr = 1e-1)"
      ],
      "execution_count": 0,
      "outputs": []
    },
    {
      "cell_type": "code",
      "metadata": {
        "id": "SiIM5O2wPssh",
        "colab_type": "code",
        "colab": {}
      },
      "source": [
        "def train(model, optimizer, x_train, y_train):\n",
        "  nb_epochs = 20\n",
        "  for epoch in range(nb_epochs):\n",
        "    \n",
        "    # H(x) 계산\n",
        "    prediction = model(x_train)          \n",
        "  \n",
        "    # Cost는 MSE로 계산\n",
        "    cost = F.mse_loss(prediction, y_train)\n",
        "    \n",
        "    # cost를 토대로 H(x) 개선\n",
        "    optimizer.zero_grad()\n",
        "    cost.backward()\n",
        "    optimizer.step()\n",
        "\n",
        "    print('E: {:4d} / {}   Cost: {:.6f} '.format(epoch, nb_epochs, cost.item()))"
      ],
      "execution_count": 0,
      "outputs": []
    },
    {
      "cell_type": "code",
      "metadata": {
        "id": "VgBA6nfbR58a",
        "colab_type": "code",
        "outputId": "f52a839d-1a48-4a76-cbee-d39023efb79b",
        "colab": {
          "base_uri": "https://localhost:8080/",
          "height": 377
        }
      },
      "source": [
        "train(model, optimizer, norm_x_train, y_train)"
      ],
      "execution_count": 0,
      "outputs": [
        {
          "output_type": "stream",
          "text": [
            "E:    0 / 20   Cost: 29729.949219 \n",
            "E:    1 / 20   Cost: 18889.082031 \n",
            "E:    2 / 20   Cost: 12048.975586 \n",
            "E:    3 / 20   Cost: 7699.843750 \n",
            "E:    4 / 20   Cost: 4924.700684 \n",
            "E:    5 / 20   Cost: 3151.020264 \n",
            "E:    6 / 20   Cost: 2016.562866 \n",
            "E:    7 / 20   Cost: 1290.709106 \n",
            "E:    8 / 20   Cost: 826.216003 \n",
            "E:    9 / 20   Cost: 528.952271 \n",
            "E:   10 / 20   Cost: 338.703308 \n",
            "E:   11 / 20   Cost: 216.940063 \n",
            "E:   12 / 20   Cost: 139.006989 \n",
            "E:   13 / 20   Cost: 89.125130 \n",
            "E:   14 / 20   Cost: 57.196083 \n",
            "E:   15 / 20   Cost: 36.757317 \n",
            "E:   16 / 20   Cost: 23.672049 \n",
            "E:   17 / 20   Cost: 15.293401 \n",
            "E:   18 / 20   Cost: 9.927165 \n",
            "E:   19 / 20   Cost: 6.488903 \n"
          ],
          "name": "stdout"
        }
      ]
    }
  ]
}
